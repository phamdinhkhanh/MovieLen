{
 "cells": [
  {
   "cell_type": "code",
   "execution_count": 24,
   "metadata": {
    "collapsed": false
   },
   "outputs": [
    {
     "name": "stdout",
     "output_type": "stream",
     "text": [
      "USV = [[0.77229737 0.33077246 0.54309846]\n",
      " [0.55533186 0.01796953 0.47545175]]\n",
      "A matrix: [[0.77229737 0.33077246 0.54309846]\n",
      " [0.55533186 0.01796953 0.47545175]] \n",
      "\n"
     ]
    }
   ],
   "source": [
    "# Code tính singular decomposition.\n",
    "import numpy as np\n",
    "from numpy import linalg as LA\n",
    "\n",
    "m, n = 2, 3\n",
    "A = np.random.rand(m, n)\n",
    "\n",
    "U, S, V = LA.svd(A)\n",
    "s1 = np.array([S[0], 0, 0])\n",
    "s2 = np.array([0, S[1], 0])\n",
    "Sigma = np.array([s1, s2])\n",
    "\n",
    "print(\"USV = %s\"%np.dot(U, np.dot(Sigma, V)))\n",
    "print(\"A matrix: %s \\n\"%A)"
   ]
  },
  {
   "cell_type": "code",
   "execution_count": 52,
   "metadata": {
    "collapsed": false
   },
   "outputs": [],
   "source": [
    "# Apply SVD for recommendation system \n",
    "import pandas as pd\n",
    "import numpy as np\n",
    "from numpy import linalg as LA\n",
    "from sklearn.metrics.pairwise import cosine_similarity\n",
    "from scipy import sparse\n",
    "\n",
    "class SVD_RS:\n",
    "    def __init__(self, Y_data, K, user_based = 1):\n",
    "        self.Y_data = Y_data\n",
    "        self.K = K\n",
    "        self.user_based = user_based\n",
    "        # number of users and items. Remember to add 1 since id start from 0\n",
    "        self.n_users = int(np.max(Y_data[:, 0])) + 1\n",
    "        self.n_items = int(np.max(Y_data[:, 1])) + 1\n",
    "        self.n_ratings = Y_data.shape[0]\n",
    "        # normalize data\n",
    "        self.Ybar_data = self.Y_data.copy().astype(np.float32)\n",
    "    \n",
    "    def normalize_Y(self):\n",
    "        if self.user_based:\n",
    "            user_col = 0\n",
    "            item_col = 1\n",
    "            n_objects = self.n_users\n",
    "            \n",
    "        else:\n",
    "            user_col = 1\n",
    "            item_col = 0\n",
    "            n_objects = self.n_items\n",
    "            \n",
    "        users = self.Y_data[:, user_col]\n",
    "        self.mu = np.zeros((n_objects, ))\n",
    "        for n in np.arange(n_objects):\n",
    "            ids = np.where(users == n)[0].astype(np.int32)\n",
    "            item_ids = self.Y_data[ids, 1]\n",
    "            ratings = self.Y_data[ids, 2].astype(np.float32)\n",
    "            m = np.mean(ratings)\n",
    "            if np.isnan(m):\n",
    "                m = 0\n",
    "            self.mu[n] = m\n",
    "            self.Ybar_data[ids, 2] = ratings - self.mu[n]\n",
    "            self.Ybar = sparse.coo_matrix((self.Ybar_data[:, 2],\n",
    "                 (self.Ybar_data[:, 1], self.Ybar_data[:, 0])), (self.n_items, self.n_users))\n",
    "            self.Ybar = self.Ybar.todense()\n",
    "            \n",
    "            \n",
    "    def fit(self):\n",
    "        self.normalize_Y()\n",
    "        U, S, V = LA.svd(self.Ybar)\n",
    "        Uk = U[:, :self.K]\n",
    "        Sk = S[:self.K]\n",
    "        Vkt = V[:self.K, :]\n",
    "        self.res = Uk.dot(np.diag(Sk)).dot(Vkt)\n",
    "        \n",
    "    def pred(self, u, i):\n",
    "        u = int(u)\n",
    "        i = int(i)\n",
    "        \n",
    "        if self.user_based:\n",
    "            bias = self.mu[u]\n",
    "        else:\n",
    "            bias = self.mu[i]\n",
    "        pred = self.res[i, u] + bias\n",
    "        if pred < 1:\n",
    "            return 1\n",
    "        if pred > 5:\n",
    "            return 5\n",
    "        return pred\n",
    "    \n",
    "    def pred_for_user(self, user_id):\n",
    "        ids = np.where(self.Y_data_n[:, 0] == user_id)[0]\n",
    "        items_rated_by_u = self.Y_data_n[ids, 1].tolist()\n",
    "        \n",
    "        y_pred = self.X.dot(self.W[:, user_id]) + self.mu[user_id]\n",
    "        predicted_ratings = []\n",
    "        for i in np.arange(self.n_items):\n",
    "            if i not in items_rated_by_u:\n",
    "                predicted_ratings.append((i, y_pred[i]))\n",
    "        return predicted_ratings\n",
    "    \n",
    "    def evaluate_RMSE(self, rate_test):\n",
    "        n_tests = rate_test.shape[0]\n",
    "        SE = 0 # squared error\n",
    "        for n in np.arange(n_tests):\n",
    "            pred = self.pred(rate_test[n, 0], rate_test[n, 1])\n",
    "            SE += (pred - rate_test[n, 2])**2 \n",
    "\n",
    "        RMSE = np.sqrt(SE/n_tests)\n",
    "        return RMSE"
   ]
  },
  {
   "cell_type": "code",
   "execution_count": 25,
   "metadata": {
    "collapsed": false
   },
   "outputs": [
    {
     "data": {
      "text/html": [
       "<div>\n",
       "<style scoped>\n",
       "    .dataframe tbody tr th:only-of-type {\n",
       "        vertical-align: middle;\n",
       "    }\n",
       "\n",
       "    .dataframe tbody tr th {\n",
       "        vertical-align: top;\n",
       "    }\n",
       "\n",
       "    .dataframe thead th {\n",
       "        text-align: right;\n",
       "    }\n",
       "</style>\n",
       "<table border=\"1\" class=\"dataframe\">\n",
       "  <thead>\n",
       "    <tr style=\"text-align: right;\">\n",
       "      <th></th>\n",
       "      <th>user_id</th>\n",
       "      <th>item_id</th>\n",
       "      <th>rating</th>\n",
       "      <th>timestamp</th>\n",
       "    </tr>\n",
       "  </thead>\n",
       "  <tbody>\n",
       "    <tr>\n",
       "      <th>39</th>\n",
       "      <td>1</td>\n",
       "      <td>1</td>\n",
       "      <td>5</td>\n",
       "      <td>978824268</td>\n",
       "    </tr>\n",
       "    <tr>\n",
       "      <th>24</th>\n",
       "      <td>1</td>\n",
       "      <td>48</td>\n",
       "      <td>5</td>\n",
       "      <td>978824351</td>\n",
       "    </tr>\n",
       "    <tr>\n",
       "      <th>38</th>\n",
       "      <td>1</td>\n",
       "      <td>150</td>\n",
       "      <td>5</td>\n",
       "      <td>978301777</td>\n",
       "    </tr>\n",
       "    <tr>\n",
       "      <th>43</th>\n",
       "      <td>1</td>\n",
       "      <td>260</td>\n",
       "      <td>4</td>\n",
       "      <td>978300760</td>\n",
       "    </tr>\n",
       "    <tr>\n",
       "      <th>22</th>\n",
       "      <td>1</td>\n",
       "      <td>527</td>\n",
       "      <td>5</td>\n",
       "      <td>978824195</td>\n",
       "    </tr>\n",
       "  </tbody>\n",
       "</table>\n",
       "</div>"
      ],
      "text/plain": [
       "    user_id  item_id  rating  timestamp\n",
       "39        1        1       5  978824268\n",
       "24        1       48       5  978824351\n",
       "38        1      150       5  978301777\n",
       "43        1      260       4  978300760\n",
       "22        1      527       5  978824195"
      ]
     },
     "execution_count": 25,
     "metadata": {},
     "output_type": "execute_result"
    }
   ],
   "source": [
    "import pandas as pd\n",
    "import numpy as np\n",
    "columns = ['user_id', 'item_id', 'rating', 'timestamp']\n",
    "movie_length = pd.read_csv('ml-1m/ratings.dat', header = 0, \\\n",
    "                           names = columns, sep = '::', engine = 'python')\n",
    "movie_length = movie_length.sort_values(['user_id', 'item_id'])\n",
    "movie_length.head()"
   ]
  },
  {
   "cell_type": "code",
   "execution_count": 35,
   "metadata": {
    "collapsed": false
   },
   "outputs": [],
   "source": [
    "#declare split_rate for train/total ratings\n",
    "split_rate = 2/3\n",
    "\n",
    "def split_train_test(dataset):\n",
    "    gb = dataset.groupby('user_id')\n",
    "    ls = [gb.get_group(x) for x in gb.groups]\n",
    "    items = [x for x in gb.groups]\n",
    "    index_size = [{'i': i, 'index':gb.groups[i], 'size':len(gb.groups[i])} for i in items]\n",
    "    index_train = pd.Int64Index([])\n",
    "    index_test = pd.Int64Index([])\n",
    "    for x in index_size:\n",
    "        np.random.shuffle(x['index'].values)\n",
    "        le = int(x['size']*split_rate)\n",
    "        index_train = index_train.append(x['index'][:le])\n",
    "        index_test = index_test.append(x['index'][le:])\n",
    "    train = dataset.iloc[index_train].values\n",
    "    test = dataset.iloc[index_test].values\n",
    "    #minus id to 1 to index start from 0\n",
    "    train[:, 0] -= 1\n",
    "    train[:, 1] -= 1\n",
    "    test[:, 0] -= 1\n",
    "    test[:, 1] -= 1\n",
    "    return train, test\n",
    "\n",
    "train, test = split_train_test(movie_length)"
   ]
  },
  {
   "cell_type": "code",
   "execution_count": 53,
   "metadata": {
    "collapsed": false
   },
   "outputs": [
    {
     "name": "stderr",
     "output_type": "stream",
     "text": [
      "c:\\users\\laptoptcc\\appdata\\local\\programs\\python\\python36\\lib\\site-packages\\numpy\\core\\fromnumeric.py:2957: RuntimeWarning: Mean of empty slice.\n",
      "  out=out, **kwargs)\n",
      "c:\\users\\laptoptcc\\appdata\\local\\programs\\python\\python36\\lib\\site-packages\\numpy\\core\\_methods.py:80: RuntimeWarning: invalid value encountered in true_divide\n",
      "  ret = ret.dtype.type(ret / rcount)\n"
     ]
    }
   ],
   "source": [
    "rs = SVD_RS(train, K = 2, user_based = 0)\n",
    "rs.fit()"
   ]
  },
  {
   "cell_type": "code",
   "execution_count": 54,
   "metadata": {
    "collapsed": false
   },
   "outputs": [
    {
     "name": "stdout",
     "output_type": "stream",
     "text": [
      "Item-based MF, RMSE = 0.953\n"
     ]
    }
   ],
   "source": [
    "RMSE = rs.evaluate_RMSE(test)\n",
    "print('Item-based MF, RMSE = %.3f'%RMSE)"
   ]
  }
 ],
 "metadata": {
  "kernelspec": {
   "display_name": "Python 3",
   "language": "python",
   "name": "python3"
  },
  "language_info": {
   "codemirror_mode": {
    "name": "ipython",
    "version": 3
   },
   "file_extension": ".py",
   "mimetype": "text/x-python",
   "name": "python",
   "nbconvert_exporter": "python",
   "pygments_lexer": "ipython3",
   "version": "3.6.0"
  }
 },
 "nbformat": 4,
 "nbformat_minor": 2
}
